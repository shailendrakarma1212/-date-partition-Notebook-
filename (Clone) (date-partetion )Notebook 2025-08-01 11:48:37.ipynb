{
 "cells": [
  {
   "cell_type": "markdown",
   "metadata": {
    "application/vnd.databricks.v1+cell": {
     "cellMetadata": {},
     "inputWidgets": {},
     "nuid": "febacb9a-4bb2-4596-804c-4f411d5d83a1",
     "showTitle": false,
     "tableResultSettingsMap": {},
     "title": ""
    }
   },
   "source": [
    "# separatio based on date coloumn"
   ]
  },
  {
   "cell_type": "code",
   "execution_count": 0,
   "metadata": {
    "application/vnd.databricks.v1+cell": {
     "cellMetadata": {
      "byteLimit": 2048000,
      "rowLimit": 10000
     },
     "inputWidgets": {},
     "nuid": "c18e9ec3-3150-4771-9a52-53cecca69d36",
     "showTitle": false,
     "tableResultSettingsMap": {},
     "title": ""
    }
   },
   "outputs": [],
   "source": [
    "\n",
    "from pyspark.sql.functions import col, date_format\n",
    "\n",
    "df = spark.table(\"my_unity_catalog_metastore.default.sample_people\")\n",
    "# df.show()\n",
    "\n",
    "#distinct dates from birthd column\n",
    "unique_dates = df.select(\"birthd\").distinct().collect()\n",
    "\n",
    "count = 1\n",
    "\n",
    "# unique date and save separate table\n",
    "for row in unique_dates:\n",
    "    \n",
    "    date_str = row['birthd'].strftime('%Y_%m_%d')  # e.g., 1995_08_15\n",
    "    table_name = f\"my_unity_catalog_metastore.default.{count}_sep_table{date_str}\"\n",
    "    \n",
    "    # Filter data for that date\n",
    "    filtered_df = df.filter(col(\"birthd\") == row[\"birthd\"])\n",
    "\n",
    "    # Save as a new Delta table in Unity Catalog\n",
    "    filtered_df.write.format(\"delta\").mode(\"overwrite\").saveAsTable(table_name)\n",
    "\n",
    "    print(f\"Save table: {table_name}\")\n",
    "    count += 1"
   ]
  },
  {
   "cell_type": "code",
   "execution_count": 0,
   "metadata": {
    "application/vnd.databricks.v1+cell": {
     "cellMetadata": {
      "byteLimit": 2048000,
      "rowLimit": 10000
     },
     "inputWidgets": {},
     "nuid": "2aa545e9-4d42-45c0-aba3-429253c52bfa",
     "showTitle": false,
     "tableResultSettingsMap": {},
     "title": ""
    }
   },
   "outputs": [],
   "source": [
    "\n",
    "from pyspark.sql.functions import col, date_format\n",
    "from datetime import datetime\n",
    "\n",
    "df = spark.table(\"my_unity_catalog_metastore.sample_people.row1_dataset\")\n",
    "\n",
    "# df.show()\n",
    "\n",
    "# distinct dates from birthd column\n",
    "unique_dates = df.select(\"date\").distinct().collect()\n",
    "\n",
    "count = 1\n",
    "# unique date and save separate table\n",
    "for row in unique_dates:\n",
    "\n",
    "    date_str = row['date'].strftime('%Y_%m_%d')  # e.g., 1995_08_15\n",
    "    table_name = f\"my_unity_catalog_metastore.sample_people.table{count}_{date_str}\"\n",
    "    \n",
    "    # # Filter data for that date\n",
    "    filtered_df = df.filter(col(\"date\") == row[\"date\"])\n",
    "\n",
    "    # Save as a new Delta table in Unity Catalog\n",
    "    filtered_df.write.format(\"delta\").mode(\"overwrite\").saveAsTable(table_name)\n",
    "\n",
    "    print(f\"Save table: {table_name}\")\n",
    "    count += 1"
   ]
  },
  {
   "cell_type": "markdown",
   "metadata": {
    "application/vnd.databricks.v1+cell": {
     "cellMetadata": {
      "byteLimit": 2048000,
      "rowLimit": 10000
     },
     "inputWidgets": {},
     "nuid": "447c7144-e2fb-4670-9ab2-37045bda2319",
     "showTitle": false,
     "tableResultSettingsMap": {},
     "title": ""
    }
   },
   "source": [
    "## parallel execution "
   ]
  },
  {
   "cell_type": "code",
   "execution_count": 0,
   "metadata": {
    "application/vnd.databricks.v1+cell": {
     "cellMetadata": {
      "byteLimit": 2048000,
      "rowLimit": 10000
     },
     "inputWidgets": {},
     "nuid": "fc37778f-2b4d-418b-b25a-3eae52828815",
     "showTitle": false,
     "tableResultSettingsMap": {},
     "title": ""
    }
   },
   "outputs": [],
   "source": [
    "from pyspark.sql.functions import col\n",
    "from concurrent.futures import ThreadPoolExecutor\n",
    "\n",
    "# Load main table\n",
    "df = spark.table(\"my_unity_catalog_metastore.sample_people.row1_dataset\")\n",
    "\n",
    "# Get unique dates\n",
    "unique_dates = df.select(\"date\").distinct().collect()\n",
    "\n",
    "# Function to save one date partition as a table\n",
    "def save_partition(row, count):\n",
    "    date_val = row[\"date\"]\n",
    "    date_str = date_val.strftime('%Y_%m_%d')\n",
    "    table_name = f\"my_unity_catalog_metastore.sample_people.table{count}_{date_str}\"\n",
    "    df.filter(col(\"date\") == date_val) \\\n",
    "      .write.format(\"delta\").mode(\"overwrite\") \\\n",
    "      .saveAsTable(table_name)\n",
    "    print(f\"Saved table: {table_name}\")\n",
    "\n",
    "# Run in parallel\n",
    "with ThreadPoolExecutor() as executor:\n",
    "    for i, row in enumerate(unique_dates, start=1):\n",
    "        executor.submit(save_partition, row, i)\n"
   ]
  },
  {
   "cell_type": "code",
   "execution_count": 0,
   "metadata": {
    "application/vnd.databricks.v1+cell": {
     "cellMetadata": {},
     "inputWidgets": {},
     "nuid": "7ff9d0e5-e1f7-4d42-b1ae-df4cce445b93",
     "showTitle": false,
     "tableResultSettingsMap": {},
     "title": ""
    }
   },
   "outputs": [],
   "source": []
  }
 ],
 "metadata": {
  "application/vnd.databricks.v1+notebook": {
   "computePreferences": null,
   "dashboards": [],
   "environmentMetadata": {
    "base_environment": "",
    "environment_version": "2"
   },
   "inputWidgetPreferences": null,
   "language": "python",
   "notebookMetadata": {
    "mostRecentlyExecutedCommandWithImplicitDF": {
     "commandId": -1,
     "dataframes": [
      "_sqldf"
     ]
    },
    "pythonIndentUnit": 4
   },
   "notebookName": "(Clone) (date-partetion )Notebook 2025-08-01 11:48:37",
   "widgets": {}
  },
  "language_info": {
   "name": "python"
  }
 },
 "nbformat": 4,
 "nbformat_minor": 0
}
